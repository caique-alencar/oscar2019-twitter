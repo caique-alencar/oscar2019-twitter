{
 "cells": [
  {
   "cell_type": "code",
   "execution_count": 1,
   "metadata": {},
   "outputs": [
    {
     "name": "stdout",
     "output_type": "stream",
     "text": [
      "Qual o termo ou hashtag que você deseja buscar no twitter? #Oscar2019\n",
      "\n",
      "Terminei!\n"
     ]
    }
   ],
   "source": [
    "# Scraping hashtag on Twitter\n",
    "\n",
    "import json\n",
    "import codecs\n",
    "import csv\n",
    "import tweepy\n",
    "from tweepy import OAuthHandler\n",
    "\n",
    "# Carrega as credenciais da API do Twitter\n",
    "# Nesse caso, as credenciais estão em um JSON salvo no mesmo diretório, que vai ser puxado pelo código\n",
    "with open('credenciais_twitter.json') as cred_data:\n",
    "    info = json.load(cred_data)\n",
    "    consumer_key = info['consumer_key']\n",
    "    consumer_secret = info['consumer_secret']\n",
    "    access_token = info['access_token']\n",
    "    access_token_secret = info['access_token_secret']\n",
    "\n",
    "# Autentica as chaves de acesso\n",
    "auth = OAuthHandler(consumer_key, consumer_secret)\n",
    "auth.set_access_token(access_token, access_token_secret)\n",
    "api = tweepy.API(auth)\n",
    "\n",
    "# max_tweets = 10 # Define número máximo de tweets que serão colocados\n",
    "\n",
    "# Pergunta o termo de busca para o usuário\n",
    "termo_de_busca = input(\"Qual o termo ou hashtag que você deseja buscar no twitter? \")\n",
    "print()\n",
    "\n",
    "# Escreve o CSV\n",
    "with open('tweets_%s.csv' % termo_de_busca, 'w', encoding='utf-8') as f:\n",
    "    wr = csv.writer(f, lineterminator='\\n')\n",
    "    wr.writerow([\"id\", \"datetime\", \"created_at\", \"tweet\"])\n",
    "    \n",
    "    for tweet in tweepy.Cursor(api.search, q=termo_de_busca, tweet_mode='extended', lang = \"pt\", rpp = 100).items(): #items(max_tweets) para definir máximo de tweets\n",
    "        output = [tweet.id, tweet.created_at, tweet.created_at.strftime(\"%d-%m-%Y %H:%M:%S\"), tweet.full_text]\n",
    "        wr.writerow(output)\n",
    "\n",
    "print(\"Terminei!\")"
   ]
  },
  {
   "cell_type": "code",
   "execution_count": null,
   "metadata": {},
   "outputs": [],
   "source": []
  }
 ],
 "metadata": {
  "kernelspec": {
   "display_name": "Python 3",
   "language": "python",
   "name": "python3"
  },
  "language_info": {
   "codemirror_mode": {
    "name": "ipython",
    "version": 3
   },
   "file_extension": ".py",
   "mimetype": "text/x-python",
   "name": "python",
   "nbconvert_exporter": "python",
   "pygments_lexer": "ipython3",
   "version": "3.6.4"
  }
 },
 "nbformat": 4,
 "nbformat_minor": 2
}
